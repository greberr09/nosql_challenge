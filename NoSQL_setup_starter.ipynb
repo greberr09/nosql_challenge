{
 "cells": [
  {
   "cell_type": "markdown",
   "id": "9a57c4c6",
   "metadata": {},
   "source": [
    "# Eat Safe, Love"
   ]
  },
  {
   "cell_type": "markdown",
   "id": "064ef857",
   "metadata": {},
   "source": [
    "## Part 1: Database and Jupyter Notebook Set Up"
   ]
  },
  {
   "cell_type": "markdown",
   "id": "664e3c1f",
   "metadata": {},
   "source": [
    "Import the data provided in the `establishments.json` file from your Terminal. Name the database `uk_food` and the collection `establishments`.\n",
    "\n",
    "Within this markdown cell, copy the line of text you used to import the data from your Terminal. This way, future analysts will be able to repeat your process.\n",
    "\n",
    "e.g.: Import the dataset with:  "
   ]
  },
  {
   "cell_type": "markdown",
   "id": "c648169e",
   "metadata": {},
   "source": [
    "mongoimport --type json -d uk_food -c establishments --drop --jsonArray establishments.json"
   ]
  },
  {
   "cell_type": "code",
   "execution_count": 1,
   "id": "3ecdd008",
   "metadata": {},
   "outputs": [],
   "source": [
    "# Import dependencies\n",
    "from pymongo import MongoClient\n",
    "from bson import ObjectId\n",
    "from pprint import pprint\n",
    "\n",
    "import os\n",
    "\n",
    "import sys\n",
    "sys.path.append(\"../\")"
   ]
  },
  {
   "cell_type": "code",
   "execution_count": 2,
   "id": "59390c4a",
   "metadata": {},
   "outputs": [],
   "source": [
    "# Create an instance of MongoClient\n",
    "\n",
    "mongo = MongoClient(port=27017)\n"
   ]
  },
  {
   "cell_type": "code",
   "execution_count": 3,
   "id": "71e373c1",
   "metadata": {},
   "outputs": [],
   "source": [
    "# assign the uk_food database to a variable name\n",
    "\n",
    "db = mongo['uk_food']"
   ]
  },
  {
   "cell_type": "code",
   "execution_count": 4,
   "id": "4b6821b6",
   "metadata": {},
   "outputs": [
    {
     "data": {
      "text/plain": [
       "['admin', 'config', 'local', 'uk_food']"
      ]
     },
     "execution_count": 4,
     "metadata": {},
     "output_type": "execute_result"
    }
   ],
   "source": [
    "mongo.list_database_names()"
   ]
  },
  {
   "cell_type": "code",
   "execution_count": 5,
   "id": "81cc170c",
   "metadata": {},
   "outputs": [
    {
     "name": "stdout",
     "output_type": "stream",
     "text": [
      "uk_food\n"
     ]
    }
   ],
   "source": [
    "print(db.name)"
   ]
  },
  {
   "cell_type": "code",
   "execution_count": 6,
   "id": "96501f4b",
   "metadata": {},
   "outputs": [
    {
     "name": "stdout",
     "output_type": "stream",
     "text": [
      "['establishments']\n"
     ]
    }
   ],
   "source": [
    "# Get the list of collection names in the uk_food database\n",
    "\n",
    "collection_names = db.list_collection_names()\n",
    "\n",
    "print(collection_names)\n"
   ]
  },
  {
   "cell_type": "code",
   "execution_count": 7,
   "id": "6a0d92df",
   "metadata": {},
   "outputs": [
    {
     "name": "stdout",
     "output_type": "stream",
     "text": [
      "==== Fields: ====\n",
      "['_id', 'FHRSID', 'ChangesByServerID', 'LocalAuthorityBusinessID', 'BusinessName', 'BusinessType', 'BusinessTypeID', 'AddressLine1', 'AddressLine2', 'AddressLine3', 'AddressLine4', 'PostCode', 'Phone', 'RatingValue', 'RatingKey', 'RatingDate', 'LocalAuthorityCode', 'LocalAuthorityName', 'LocalAuthorityWebSite', 'LocalAuthorityEmailAddress', 'scores', 'SchemeType', 'geocode', 'RightToReply', 'Distance', 'NewRatingPending', 'meta', 'links']\n",
      "================\n",
      "\n",
      "{'AddressLine1': 'East Cliff Pavilion',\n",
      " 'AddressLine2': 'Wear Bay Road',\n",
      " 'AddressLine3': 'Folkestone',\n",
      " 'AddressLine4': 'Kent',\n",
      " 'BusinessName': 'The Pavilion',\n",
      " 'BusinessType': 'Restaurant/Cafe/Canteen',\n",
      " 'BusinessTypeID': 1,\n",
      " 'ChangesByServerID': 0,\n",
      " 'Distance': 4591.765489457773,\n",
      " 'FHRSID': 1043695,\n",
      " 'LocalAuthorityBusinessID': 'PI/000073616',\n",
      " 'LocalAuthorityCode': '188',\n",
      " 'LocalAuthorityEmailAddress': 'foodteam@folkestone-hythe.gov.uk',\n",
      " 'LocalAuthorityName': 'Folkestone and Hythe',\n",
      " 'LocalAuthorityWebSite': 'http://www.folkestone-hythe.gov.uk',\n",
      " 'NewRatingPending': False,\n",
      " 'Phone': '',\n",
      " 'PostCode': 'CT19 6BL',\n",
      " 'RatingDate': '2018-04-04T00:00:00',\n",
      " 'RatingKey': 'fhrs_5_en-gb',\n",
      " 'RatingValue': 5,\n",
      " 'RightToReply': '',\n",
      " 'SchemeType': 'FHRS',\n",
      " '_id': ObjectId('64964158613d83e2052dc543'),\n",
      " 'geocode': {'latitude': 51.083812, 'longitude': 1.195625},\n",
      " 'links': [{'href': 'https://api.ratings.food.gov.uk/establishments/1043695',\n",
      "            'rel': 'self'}],\n",
      " 'meta': {'dataSource': None,\n",
      "          'extractDate': '0001-01-01T00:00:00',\n",
      "          'itemCount': 0,\n",
      "          'pageNumber': 0,\n",
      "          'pageSize': 0,\n",
      "          'returncode': None,\n",
      "          'totalCount': 0,\n",
      "          'totalPages': 0},\n",
      " 'scores': {'ConfidenceInManagement': 5, 'Hygiene': 5, 'Structural': 5}}\n"
     ]
    }
   ],
   "source": [
    "# review a document in the establishments collection\n",
    "\n",
    "# Capture the results to a variable\n",
    "\n",
    "document = db.establishments.find_one()\n",
    "\n",
    "# Get the field names from the document\n",
    "field_names = list(document.keys())\n",
    "\n",
    "print(\"==== Fields: ====\")\n",
    "print(field_names)\n",
    "\n",
    "print(\"================\\n\")\n",
    "\n",
    "# Pretty print the document\n",
    "\n",
    "pprint(document)"
   ]
  },
  {
   "cell_type": "code",
   "execution_count": 8,
   "id": "18ab463c",
   "metadata": {},
   "outputs": [
    {
     "data": {
      "text/plain": [
       "Collection(Database(MongoClient(host=['localhost:27017'], document_class=dict, tz_aware=False, connect=True), 'uk_food'), 'establishments')"
      ]
     },
     "execution_count": 8,
     "metadata": {},
     "output_type": "execute_result"
    }
   ],
   "source": [
    "# assign the collection to a variable\n",
    "establishments = db['establishments']\n",
    "\n",
    "establishments"
   ]
  },
  {
   "cell_type": "markdown",
   "id": "d5671434",
   "metadata": {},
   "source": [
    "## Part 2: Update the Database"
   ]
  },
  {
   "cell_type": "markdown",
   "id": "314bd884",
   "metadata": {},
   "source": [
    "1. An exciting new halal restaurant just opened in Greenwich, but hasn't been rated yet. The magazine has asked you to include it in your analysis. Add the following restaurant \"Penang Flavours\" to the database."
   ]
  },
  {
   "cell_type": "code",
   "execution_count": 9,
   "id": "ca73540b",
   "metadata": {},
   "outputs": [
    {
     "data": {
      "text/plain": [
       "{'_id': ObjectId('64964159613d83e2052e3240'),\n",
       " 'FHRSID': 1451407,\n",
       " 'ChangesByServerID': 0,\n",
       " 'LocalAuthorityBusinessID': '14959',\n",
       " 'BusinessName': 'Oaks Nursing Home',\n",
       " 'BusinessType': 'Caring Premises',\n",
       " 'BusinessTypeID': 5,\n",
       " 'AddressLine1': 'The Oaks 904 Sidcup Road',\n",
       " 'AddressLine2': '',\n",
       " 'AddressLine3': 'Eltham',\n",
       " 'AddressLine4': 'Greenwich',\n",
       " 'PostCode': 'SE9 3PW',\n",
       " 'Phone': '',\n",
       " 'RatingValue': 5,\n",
       " 'RatingKey': 'fhrs_5_en-gb',\n",
       " 'RatingDate': '2022-01-12T00:00:00',\n",
       " 'LocalAuthorityCode': '511',\n",
       " 'LocalAuthorityName': 'Greenwich',\n",
       " 'LocalAuthorityWebSite': 'http://www.royalgreenwich.gov.uk',\n",
       " 'LocalAuthorityEmailAddress': 'health@royalgreenwich.gov.uk',\n",
       " 'scores': {'Hygiene': 5, 'Structural': 5, 'ConfidenceInManagement': 5},\n",
       " 'SchemeType': 'FHRS',\n",
       " 'geocode': {'longitude': 0.0740289, 'latitude': 51.4320613},\n",
       " 'RightToReply': '',\n",
       " 'Distance': 4645.598535750726,\n",
       " 'NewRatingPending': False,\n",
       " 'meta': {'dataSource': None,\n",
       "  'extractDate': '0001-01-01T00:00:00',\n",
       "  'itemCount': 0,\n",
       "  'returncode': None,\n",
       "  'totalCount': 0,\n",
       "  'totalPages': 0,\n",
       "  'pageSize': 0,\n",
       "  'pageNumber': 0},\n",
       " 'links': [{'rel': 'self',\n",
       "   'href': 'http://api.ratings.food.gov.uk/establishments/1451407'}]}"
      ]
     },
     "execution_count": 9,
     "metadata": {},
     "output_type": "execute_result"
    }
   ],
   "source": [
    "# first get shared local authority values from another entity in Greenwich \n",
    "\n",
    "greenwich_entity = establishments.find_one({'LocalAuthorityName' : 'Greenwich'})\n",
    "\n",
    "greenwich_entity"
   ]
  },
  {
   "cell_type": "code",
   "execution_count": 10,
   "id": "c2da7648",
   "metadata": {},
   "outputs": [
    {
     "data": {
      "text/plain": [
       "{'AddressLine1': 'Penang Flavours',\n",
       " 'AddressLine2': '146A Plumstead Rd',\n",
       " 'AddressLine3': 'London',\n",
       " 'AddressLine4': '',\n",
       " 'BusinessName': 'Penang Flavours',\n",
       " 'BusinessType': 'Restaurant/Cafe/Canteen',\n",
       " 'BusinessTypeID': '',\n",
       " 'ChangesByServerID': '',\n",
       " 'FHRSID': 0,\n",
       " 'LocalAuthorityBusinessID': '',\n",
       " 'LocalAuthorityCode': '511',\n",
       " 'LocalAuthorityEmailAddress': 'health@royalgreenwich.gov.uk',\n",
       " 'LocalAuthorityName': 'Greenwich',\n",
       " 'LocalAuthorityWebSite': 'http://www.royalgreenwich.gov.uk',\n",
       " 'NewRatingPending': True,\n",
       " 'RightToReply': '',\n",
       " 'Distance': 4623.972328074718,\n",
       " 'Phone': '',\n",
       " 'PostCode': 'SE18 7DY',\n",
       " 'RatingDate': '',\n",
       " 'RatingKey': '',\n",
       " 'RatingValue': None,\n",
       " 'scores': {'ConfidenceInManagement': '', 'Hygiene': '', 'Structural': ''},\n",
       " 'SchemeType': 'FHRS',\n",
       " 'geocode': {'longitude': '0.08384000', 'latitude': '51.465691'},\n",
       " 'links': [{'href': 'self', 'rel': 'self'}],\n",
       " 'meta': {'dataSource': None,\n",
       "  'extractDate': '',\n",
       "  'itemCount': 0,\n",
       "  'pageNumber': 0,\n",
       "  'pageSize': 0,\n",
       "  'returncode': None,\n",
       "  'totalCount': 0,\n",
       "  'totalPages': 0}}"
      ]
     },
     "execution_count": 10,
     "metadata": {},
     "output_type": "execute_result"
    }
   ],
   "source": [
    "# Create a dictionary for the new restaurant data for \"Penang Flavours\"\n",
    "\n",
    "dict = {'AddressLine1': 'Penang Flavours',\n",
    " 'AddressLine2': '146A Plumstead Rd',\n",
    " 'AddressLine3': 'London',\n",
    " 'AddressLine4': '',\n",
    " 'BusinessName': 'Penang Flavours',\n",
    " 'BusinessType': 'Restaurant/Cafe/Canteen',\n",
    " 'BusinessTypeID': '',\n",
    " 'ChangesByServerID':'',\n",
    " 'FHRSID': 0,\n",
    " 'LocalAuthorityBusinessID': '',\n",
    " 'LocalAuthorityCode': greenwich_entity['LocalAuthorityCode'],\n",
    " 'LocalAuthorityEmailAddress': greenwich_entity['LocalAuthorityEmailAddress'],\n",
    " 'LocalAuthorityName': greenwich_entity['LocalAuthorityName'],\n",
    " 'LocalAuthorityWebSite': greenwich_entity['LocalAuthorityWebSite'],\n",
    " 'NewRatingPending': True,\n",
    " 'RightToReply': '',\n",
    " 'Distance': 4623.9723280747176,\n",
    " 'Phone': '',\n",
    " 'PostCode': 'SE18 7DY',\n",
    " 'RatingDate': '',\n",
    " 'RatingKey': '',\n",
    " 'RatingValue': None,\n",
    " 'scores': { \n",
    "        'ConfidenceInManagement': '',\n",
    "        'Hygiene': '', \n",
    "        'Structural': ''},\n",
    " 'SchemeType': 'FHRS',\n",
    " 'geocode': {'longitude' : '0.08384000', \n",
    "             'latitude' : '51.465691'},\n",
    " 'links': [{'href': greenwich_entity['links'][0]['rel'],\n",
    "            'rel': 'self'}],\n",
    " 'meta': {'dataSource': None,\n",
    "          'extractDate': '',\n",
    "          'itemCount': 0,\n",
    "          'pageNumber': 0,\n",
    "          'pageSize': 0,\n",
    "          'returncode': None,\n",
    "          'totalCount': 0,\n",
    "          'totalPages': 0}\n",
    "    }\n",
    "\n",
    "\n",
    "dict"
   ]
  },
  {
   "cell_type": "code",
   "execution_count": 11,
   "id": "a6e5cece",
   "metadata": {},
   "outputs": [
    {
     "data": {
      "text/plain": [
       "<pymongo.results.InsertOneResult at 0x2bb7c2fe400>"
      ]
     },
     "execution_count": 11,
     "metadata": {},
     "output_type": "execute_result"
    }
   ],
   "source": [
    "# Insert the new restaurant into the collection\n",
    "\n",
    "establishments.insert_one(dict)"
   ]
  },
  {
   "cell_type": "code",
   "execution_count": 12,
   "id": "63bb10f9",
   "metadata": {},
   "outputs": [
    {
     "data": {
      "text/plain": [
       "{'_id': ObjectId('6496416eef3ed2727f921cb4'),\n",
       " 'AddressLine1': 'Penang Flavours',\n",
       " 'AddressLine2': '146A Plumstead Rd',\n",
       " 'AddressLine3': 'London',\n",
       " 'AddressLine4': '',\n",
       " 'BusinessName': 'Penang Flavours',\n",
       " 'BusinessType': 'Restaurant/Cafe/Canteen',\n",
       " 'BusinessTypeID': 1,\n",
       " 'ChangesByServerID': '',\n",
       " 'FHRSID': 0,\n",
       " 'LocalAuthorityBusinessID': '',\n",
       " 'LocalAuthorityCode': '511',\n",
       " 'LocalAuthorityEmailAddress': 'health@royalgreenwich.gov.uk',\n",
       " 'LocalAuthorityName': 'Greenwich',\n",
       " 'LocalAuthorityWebSite': 'http://www.royalgreenwich.gov.uk',\n",
       " 'NewRatingPending': True,\n",
       " 'RightToReply': '',\n",
       " 'Distance': 4623.972328074718,\n",
       " 'Phone': '',\n",
       " 'PostCode': 'SE18 7DY',\n",
       " 'RatingDate': '',\n",
       " 'RatingKey': '',\n",
       " 'RatingValue': None,\n",
       " 'scores': {'ConfidenceInManagement': '', 'Hygiene': '', 'Structural': ''},\n",
       " 'SchemeType': 'FHRS',\n",
       " 'geocode': {'longitude': 0.08384, 'latitude': 51.465691},\n",
       " 'links': [{'href': 'self', 'rel': 'self'}],\n",
       " 'meta': {'dataSource': None,\n",
       "  'extractDate': '',\n",
       "  'itemCount': 0,\n",
       "  'pageNumber': 0,\n",
       "  'pageSize': 0,\n",
       "  'returncode': None,\n",
       "  'totalCount': 0,\n",
       "  'totalPages': 0}}"
      ]
     },
     "execution_count": 12,
     "metadata": {},
     "output_type": "execute_result"
    }
   ],
   "source": [
    "# Check that the new restaurant was inserted\n",
    "penang_entity = establishments.find_one({'BusinessName' : 'Penang Flavours'})\n",
    "\n",
    "penang_entity"
   ]
  },
  {
   "cell_type": "code",
   "execution_count": 13,
   "id": "cdbc5ae4",
   "metadata": {},
   "outputs": [
    {
     "name": "stdout",
     "output_type": "stream",
     "text": [
      "{'_id': ObjectId('6496416eef3ed2727f921cb4'), 'BusinessName': 'Penang Flavours', 'BusinessType': 'Restaurant/Cafe/Canteen', 'BusinessTypeID': 1}\n",
      "{'_id': ObjectId('6496465fdc77cacbb6de9f34'), 'BusinessName': 'Penang Flavours', 'BusinessType': 'Restaurant/Cafe/Canteen', 'BusinessTypeID': ''}\n"
     ]
    }
   ],
   "source": [
    "# Find how many other restaurants have Penang in their names\n",
    "\n",
    "penang_entities = establishments.find(\n",
    "    {'BusinessName': {'$regex': 'Penang'}},\n",
    "    {'BusinessName': 1, 'BusinessType': 1, 'BusinessTypeID': 1})\n",
    "\n",
    "for entry in penang_entities:\n",
    "    print(entry)"
   ]
  },
  {
   "cell_type": "code",
   "execution_count": 14,
   "id": "5a1959dc",
   "metadata": {},
   "outputs": [
    {
     "name": "stdout",
     "output_type": "stream",
     "text": [
      "After adding the Penang Flavours restaurant, there are 38787 entities.\n"
     ]
    }
   ],
   "source": [
    "# Get total number of entities in the collection\n",
    "\n",
    "total_ents = establishments.count_documents({})\n",
    "\n",
    "print(f\"After adding the Penang Flavours restaurant, there are {total_ents} entities.\")"
   ]
  },
  {
   "cell_type": "markdown",
   "id": "0ef4395a",
   "metadata": {},
   "source": [
    "2. Find the BusinessTypeID for \"Restaurant/Cafe/Canteen\" and return only the `BusinessTypeID` and `BusinessType` fields."
   ]
  },
  {
   "cell_type": "code",
   "execution_count": 15,
   "id": "93c63829",
   "metadata": {},
   "outputs": [
    {
     "name": "stdout",
     "output_type": "stream",
     "text": [
      "BusinessType: Restaurant/Cafe/Canteen, BusinessTypeID: 1\n"
     ]
    }
   ],
   "source": [
    "# Find the BusinessTypeID for \"Restaurant/Cafe/Canteen\" and return only the BusinessTypeID and BusinessType fields\n",
    "\n",
    "restaurant_type = db.establishments.find_one(\n",
    "    {'BusinessType': 'Restaurant/Cafe/Canteen'},\n",
    "    {'BusinessTypeID': 1, 'BusinessType': 1}\n",
    ")\n",
    "\n",
    "print(f\"BusinessType: {restaurant_type['BusinessType']}, BusinessTypeID: {restaurant_type['BusinessTypeID']}\" )\n"
   ]
  },
  {
   "cell_type": "markdown",
   "id": "4e570caf",
   "metadata": {},
   "source": [
    "3. Update the new restaurant with the `BusinessTypeID` you found."
   ]
  },
  {
   "cell_type": "code",
   "execution_count": 16,
   "id": "7f599f3d",
   "metadata": {},
   "outputs": [
    {
     "data": {
      "text/plain": [
       "<pymongo.results.UpdateResult at 0x2bb7c2bbe40>"
      ]
     },
     "execution_count": 16,
     "metadata": {},
     "output_type": "execute_result"
    }
   ],
   "source": [
    "# Update the new restaurant with the correct BusinessTypeID\n",
    "\n",
    "establishments.update_one(\n",
    "    {'BusinessName': 'Penang Flavours'},\n",
    "    {'$set': {\n",
    "        'BusinessTypeID': restaurant_type['BusinessTypeID']\n",
    "    }}\n",
    ")\n"
   ]
  },
  {
   "cell_type": "code",
   "execution_count": 17,
   "id": "a6ad16f7",
   "metadata": {},
   "outputs": [
    {
     "data": {
      "text/plain": [
       "{'_id': ObjectId('6496416eef3ed2727f921cb4'),\n",
       " 'AddressLine1': 'Penang Flavours',\n",
       " 'AddressLine2': '146A Plumstead Rd',\n",
       " 'AddressLine3': 'London',\n",
       " 'AddressLine4': '',\n",
       " 'BusinessName': 'Penang Flavours',\n",
       " 'BusinessType': 'Restaurant/Cafe/Canteen',\n",
       " 'BusinessTypeID': 1,\n",
       " 'ChangesByServerID': '',\n",
       " 'FHRSID': 0,\n",
       " 'LocalAuthorityBusinessID': '',\n",
       " 'LocalAuthorityCode': '511',\n",
       " 'LocalAuthorityEmailAddress': 'health@royalgreenwich.gov.uk',\n",
       " 'LocalAuthorityName': 'Greenwich',\n",
       " 'LocalAuthorityWebSite': 'http://www.royalgreenwich.gov.uk',\n",
       " 'NewRatingPending': True,\n",
       " 'RightToReply': '',\n",
       " 'Distance': 4623.972328074718,\n",
       " 'Phone': '',\n",
       " 'PostCode': 'SE18 7DY',\n",
       " 'RatingDate': '',\n",
       " 'RatingKey': '',\n",
       " 'RatingValue': None,\n",
       " 'scores': {'ConfidenceInManagement': '', 'Hygiene': '', 'Structural': ''},\n",
       " 'SchemeType': 'FHRS',\n",
       " 'geocode': {'longitude': 0.08384, 'latitude': 51.465691},\n",
       " 'links': [{'href': 'self', 'rel': 'self'}],\n",
       " 'meta': {'dataSource': None,\n",
       "  'extractDate': '',\n",
       "  'itemCount': 0,\n",
       "  'pageNumber': 0,\n",
       "  'pageSize': 0,\n",
       "  'returncode': None,\n",
       "  'totalCount': 0,\n",
       "  'totalPages': 0}}"
      ]
     },
     "execution_count": 17,
     "metadata": {},
     "output_type": "execute_result"
    }
   ],
   "source": [
    "# Confirm that the new restaurant was updated\n",
    "\n",
    "penang_ent = establishments.find_one({'BusinessName' : 'Penang Flavours'})\n",
    "\n",
    "penang_ent"
   ]
  },
  {
   "cell_type": "markdown",
   "id": "67281254",
   "metadata": {},
   "source": [
    "4. The magazine is not interested in any establishments in Dover, so check how many documents contain the Dover Local Authority. Then, remove any establishments within the Dover Local Authority from the database, and check the number of documents to ensure they were deleted."
   ]
  },
  {
   "cell_type": "code",
   "execution_count": 18,
   "id": "768474a6",
   "metadata": {},
   "outputs": [
    {
     "name": "stdout",
     "output_type": "stream",
     "text": [
      "There are 0 business entities in Dover:\n"
     ]
    }
   ],
   "source": [
    "# Find how many documents have LocalAuthorityName as \"Dover\"\n",
    "\n",
    "dover_entities = list(establishments.find({'LocalAuthorityName' : 'Dover'}))\n",
    "\n",
    "num_dover_ents = len(dover_entities)\n",
    "\n",
    "print(f\"There are {num_dover_ents} business entities in Dover:\")\n",
    "for entity in dover_entities:\n",
    "    print(entity['BusinessName'])"
   ]
  },
  {
   "cell_type": "code",
   "execution_count": 19,
   "id": "a11d5f1b",
   "metadata": {},
   "outputs": [
    {
     "data": {
      "text/plain": [
       "<pymongo.results.DeleteResult at 0x2bb7c308300>"
      ]
     },
     "execution_count": 19,
     "metadata": {},
     "output_type": "execute_result"
    }
   ],
   "source": [
    "# Delete all documents where LocalAuthorityName is \"Dover\"\n",
    "\n",
    "establishments.delete_many({'LocalAuthorityName': 'Dover'})\n"
   ]
  },
  {
   "cell_type": "code",
   "execution_count": 20,
   "id": "2a51aba0",
   "metadata": {},
   "outputs": [
    {
     "name": "stdout",
     "output_type": "stream",
     "text": [
      "There were 0 business entities in Dover and now there are 0.\n",
      "There were 38787 total entities, and now there are 38787.\n"
     ]
    }
   ],
   "source": [
    "# Check if any remaining documents include Dover\n",
    "updated_dover_entities = list(establishments.find({'LocalAuthorityName' : 'Dover'}))\n",
    "\n",
    "count_dover_ents = len(updated_dover_entities)\n",
    "\n",
    "print(f\"There were {num_dover_ents} business entities in Dover and now there are {count_dover_ents}.\")\n",
    "\n",
    "# check overall totals\n",
    "new_tots = establishments.count_documents({})\n",
    "\n",
    "print(f\"There were {total_ents} total entities, and now there are {new_tots}.\")"
   ]
  },
  {
   "cell_type": "code",
   "execution_count": 21,
   "id": "8c356f7b",
   "metadata": {},
   "outputs": [
    {
     "name": "stdout",
     "output_type": "stream",
     "text": [
      "{'AddressLine1': 'East Cliff Pavilion',\n",
      " 'AddressLine2': 'Wear Bay Road',\n",
      " 'AddressLine3': 'Folkestone',\n",
      " 'AddressLine4': 'Kent',\n",
      " 'BusinessName': 'The Pavilion',\n",
      " 'BusinessType': 'Restaurant/Cafe/Canteen',\n",
      " 'BusinessTypeID': 1,\n",
      " 'ChangesByServerID': 0,\n",
      " 'Distance': 4591.765489457773,\n",
      " 'FHRSID': 1043695,\n",
      " 'LocalAuthorityBusinessID': 'PI/000073616',\n",
      " 'LocalAuthorityCode': '188',\n",
      " 'LocalAuthorityEmailAddress': 'foodteam@folkestone-hythe.gov.uk',\n",
      " 'LocalAuthorityName': 'Folkestone and Hythe',\n",
      " 'LocalAuthorityWebSite': 'http://www.folkestone-hythe.gov.uk',\n",
      " 'NewRatingPending': False,\n",
      " 'Phone': '',\n",
      " 'PostCode': 'CT19 6BL',\n",
      " 'RatingDate': '2018-04-04T00:00:00',\n",
      " 'RatingKey': 'fhrs_5_en-gb',\n",
      " 'RatingValue': 5,\n",
      " 'RightToReply': '',\n",
      " 'SchemeType': 'FHRS',\n",
      " '_id': ObjectId('64964158613d83e2052dc543'),\n",
      " 'geocode': {'latitude': 51.083812, 'longitude': 1.195625},\n",
      " 'links': [{'href': 'https://api.ratings.food.gov.uk/establishments/1043695',\n",
      "            'rel': 'self'}],\n",
      " 'meta': {'dataSource': None,\n",
      "          'extractDate': '0001-01-01T00:00:00',\n",
      "          'itemCount': 0,\n",
      "          'pageNumber': 0,\n",
      "          'pageSize': 0,\n",
      "          'returncode': None,\n",
      "          'totalCount': 0,\n",
      "          'totalPages': 0},\n",
      " 'scores': {'ConfidenceInManagement': 5, 'Hygiene': 5, 'Structural': 5}}\n"
     ]
    }
   ],
   "source": [
    "# Check that other documents remain with 'find_one'\n",
    "# review a document in the establishments collection\n",
    "\n",
    "doc = establishments.find_one()\n",
    "\n",
    "pprint(doc)"
   ]
  },
  {
   "cell_type": "markdown",
   "id": "e9f1662d",
   "metadata": {},
   "source": [
    "5. Some of the number values are stored as strings, when they should be stored as numbers."
   ]
  },
  {
   "cell_type": "markdown",
   "id": "c46df2df",
   "metadata": {},
   "source": [
    "Use `update_many` to convert `latitude` and `longitude` to decimal numbers."
   ]
  },
  {
   "cell_type": "code",
   "execution_count": 22,
   "id": "81c31575",
   "metadata": {},
   "outputs": [
    {
     "name": "stdout",
     "output_type": "stream",
     "text": [
      "Modified documents (latitude): 0\n",
      "Modified documents (longitude): 0\n"
     ]
    }
   ],
   "source": [
    "# first set any blank latitude and longitude fields to None\n",
    "# before trying to do the conversion from string to float\n",
    "\n",
    "blank_values = ['', ' ']\n",
    "\n",
    "# Update latitude\n",
    "query_blank = {\"geocode.latitude\": {\"$in\": blank_values}}\n",
    "update_query = {\"$set\": {\"geocode.latitude\": None}}\n",
    "\n",
    "result = establishments.update_many(query_blank, update_query)\n",
    "print(\"Modified documents (latitude):\", result.modified_count)\n",
    "\n",
    "# Update longitude\n",
    "query_blank = {\"geocode.longitude\": {\"$in\": blank_values}}\n",
    "update_query = {\"$set\": {\"geocode.longitude\": None}}\n",
    "\n",
    "result = establishments.update_many(query_blank, update_query)\n",
    "print(\"Modified documents (longitude):\", result.modified_count)\n"
   ]
  },
  {
   "cell_type": "markdown",
   "id": "226c34ee",
   "metadata": {},
   "source": [
    "The project requirements are to use update_many() to accomplish this conversion.   This method also takes advantage of the fact\n",
    "that the \"toDouble()\" method in Python skips null values, and returns null, instead of raising an error."
   ]
  },
  {
   "cell_type": "code",
   "execution_count": 23,
   "id": "2d5cce99",
   "metadata": {},
   "outputs": [
    {
     "data": {
      "text/plain": [
       "{'_id': ObjectId('64964158613d83e2052dc543'),\n",
       " 'FHRSID': 1043695,\n",
       " 'ChangesByServerID': 0,\n",
       " 'LocalAuthorityBusinessID': 'PI/000073616',\n",
       " 'BusinessName': 'The Pavilion',\n",
       " 'BusinessType': 'Restaurant/Cafe/Canteen',\n",
       " 'BusinessTypeID': 1,\n",
       " 'AddressLine1': 'East Cliff Pavilion',\n",
       " 'AddressLine2': 'Wear Bay Road',\n",
       " 'AddressLine3': 'Folkestone',\n",
       " 'AddressLine4': 'Kent',\n",
       " 'PostCode': 'CT19 6BL',\n",
       " 'Phone': '',\n",
       " 'RatingValue': 5,\n",
       " 'RatingKey': 'fhrs_5_en-gb',\n",
       " 'RatingDate': '2018-04-04T00:00:00',\n",
       " 'LocalAuthorityCode': '188',\n",
       " 'LocalAuthorityName': 'Folkestone and Hythe',\n",
       " 'LocalAuthorityWebSite': 'http://www.folkestone-hythe.gov.uk',\n",
       " 'LocalAuthorityEmailAddress': 'foodteam@folkestone-hythe.gov.uk',\n",
       " 'scores': {'Hygiene': 5, 'Structural': 5, 'ConfidenceInManagement': 5},\n",
       " 'SchemeType': 'FHRS',\n",
       " 'geocode': {'longitude': 1.195625, 'latitude': 51.083812},\n",
       " 'RightToReply': '',\n",
       " 'Distance': 4591.765489457773,\n",
       " 'NewRatingPending': False,\n",
       " 'meta': {'dataSource': None,\n",
       "  'extractDate': '0001-01-01T00:00:00',\n",
       "  'itemCount': 0,\n",
       "  'returncode': None,\n",
       "  'totalCount': 0,\n",
       "  'totalPages': 0,\n",
       "  'pageSize': 0,\n",
       "  'pageNumber': 0},\n",
       " 'links': [{'rel': 'self',\n",
       "   'href': 'https://api.ratings.food.gov.uk/establishments/1043695'}]}"
      ]
     },
     "execution_count": 23,
     "metadata": {},
     "output_type": "execute_result"
    }
   ],
   "source": [
    "# Now convert all of the lat and long string fields to float.   \n",
    "# This code relies on the fact that toDouble() in Python will skip over null/None values \n",
    "\n",
    "establishments.update_many({}, [ {'$set': { 'geocode.latitude' : {'$toDouble': '$geocode.latitude'},\n",
    "                                               'geocode.longitude' : {'$toDouble': '$geocode.longitude'}\n",
    "                                            }\n",
    "                                     } ])\n",
    "\n",
    "# get one document and print it to verify\n",
    "doc = establishments.find_one()\n",
    "doc"
   ]
  },
  {
   "cell_type": "markdown",
   "id": "f39fd86e",
   "metadata": {},
   "source": [
    "In a production environment, the above update_many() method might not be robust enough, even with the above setting to null/None, and it likely would be necessary to iterate through each document in the collection, then iterate through each character in the latitude and longitude fields, validating the charcters with regular expressions prior to any conversion.  That also would need to be done within a try-catch block so that the entire set of documents could be updated and a log created of those which contained invalid data without stopping the overall convrsion.   This might take more processing time, but if the data is coming from an outside source, might be well worth the time.\n",
    "\n",
    "isDigit() could not be used alone because these fields are floats and contain decimal points.   Something like the below could be used:\n",
    "    \n",
    "    if isinstance(doc['geocode']['latitude'], str):\n",
    "        is_valid = True\n",
    "        lat = doc['geocode']['latitude']\n",
    "        \n",
    "        for char in lat:\n",
    "            if not char.isdigit() or char == '.':\n",
    "                is_valid = False\n",
    "        \n",
    "       if is_valid:\n",
    "           doc['geocode']['latitude'] = float(doc['geocode']['latitude'])"
   ]
  },
  {
   "cell_type": "markdown",
   "id": "142e319c",
   "metadata": {},
   "source": [
    "Use `update_many` to convert `RatingValue` to integer numbers."
   ]
  },
  {
   "cell_type": "code",
   "execution_count": 24,
   "id": "08cf8a80",
   "metadata": {},
   "outputs": [
    {
     "name": "stdout",
     "output_type": "stream",
     "text": [
      "[None, 0, 1, 2, 3, 4, 5]\n"
     ]
    }
   ],
   "source": [
    "# Check all the values of the RatingValue field before trying to convert them\n",
    "\n",
    "print(establishments.distinct('RatingValue'))"
   ]
  },
  {
   "cell_type": "code",
   "execution_count": 25,
   "id": "012a2629",
   "metadata": {},
   "outputs": [
    {
     "name": "stdout",
     "output_type": "stream",
     "text": [
      "0\n"
     ]
    }
   ],
   "source": [
    "# First find everything that won't convert to an integer\n",
    "\n",
    "# This non_ratings array and the $in query were provided in the starter code, and then \n",
    "# updated because it did not include all of the invalid strings.  A similar approach was then adopted \n",
    "# for the valid values array.\n",
    "\n",
    "non_ratings = [\"AwaitingInspection\", \"Awaiting Inspection\", \"AwaitingPublication\", \"Pass\", \"Exempt\", \"\"]\n",
    "\n",
    "query_none = {\"RatingValue\": {\"$in\": non_ratings}}\n",
    "\n",
    "results = establishments.count_documents(query_none)\n",
    "print(results)"
   ]
  },
  {
   "cell_type": "markdown",
   "id": "7d557eea",
   "metadata": {},
   "source": [
    "Set all of the non-numeric ratings values to None, per the requirements of the chalelnge\n",
    "In actuality, it would seem to be much better to keep the different types of reasons for not having a rating value, especially for exemptions, and instead to just convert to int where the RatingVale is in ['0', '1', '2', '3', '4', '5']\n",
    "this would preserve more information and require less updating.  But, the instructions and the starter code indicated that all of these types of values should be set to \"None\".\n"
   ]
  },
  {
   "cell_type": "code",
   "execution_count": 26,
   "id": "a89875d4",
   "metadata": {},
   "outputs": [
    {
     "name": "stdout",
     "output_type": "stream",
     "text": [
      "Modified documents: 0\n"
     ]
    }
   ],
   "source": [
    "# set all of the non-numeric ratings values to None\n",
    "\n",
    "update_query = {\"$set\": {\"RatingValue\": None}}\n",
    "\n",
    "result = establishments.update_many(query_none, update_query)\n",
    "\n",
    "print(\"Modified documents:\", result.modified_count)"
   ]
  },
  {
   "cell_type": "code",
   "execution_count": 27,
   "id": "1897bf92",
   "metadata": {},
   "outputs": [
    {
     "name": "stdout",
     "output_type": "stream",
     "text": [
      "After null conversion: [None, 0, 1, 2, 3, 4, 5]\n"
     ]
    }
   ],
   "source": [
    "# check the ratings values after the null value cleanup\n",
    "\n",
    "print(f\"After null conversion: {establishments.distinct('RatingValue')}\")  "
   ]
  },
  {
   "cell_type": "code",
   "execution_count": 28,
   "id": "d453f840",
   "metadata": {},
   "outputs": [
    {
     "name": "stdout",
     "output_type": "stream",
     "text": [
      "Total documents: 38787\n",
      "Convertable ratings: 34694\n",
      "Null ratings: 4093\n"
     ]
    }
   ],
   "source": [
    "# Get the counts after the null value cleanup\n",
    "\n",
    "match_query = {\"RatingValue\": {\"$ne\": None}}\n",
    "none_query = {\"RatingValue\": {\"$eq\": None}}\n",
    "\n",
    "total_ratings = establishments.count_documents({})\n",
    "print(f\"Total documents: {total_ratings}\")\n",
    "\n",
    "valid_ratings = establishments.count_documents(match_query)\n",
    "print(f\"Convertable ratings: {valid_ratings}\")\n",
    "\n",
    "result_none = establishments.count_documents(none_query)\n",
    "print(f\"Null ratings: {result_none}\")\n"
   ]
  },
  {
   "cell_type": "code",
   "execution_count": 29,
   "id": "3721b068",
   "metadata": {},
   "outputs": [
    {
     "data": {
      "text/plain": [
       "<pymongo.results.UpdateResult at 0x2bb7c2d9280>"
      ]
     },
     "execution_count": 29,
     "metadata": {},
     "output_type": "execute_result"
    }
   ],
   "source": [
    "# Now convert the valid Ratings Values to integers using update_many(), per the project requirements\n",
    "\n",
    "# This simple way of doing the update relies on Python toInt() being able to bypass null values and\n",
    "# just return a null, rather than raising an error.\n",
    "\n",
    "# in a production environment, more error checking would be needed, but the distict values list that\n",
    "# was printed above shows that for this particular dataset it is now either none or a valid ratings value.\n",
    "\n",
    "establishments.update_many({}, [ {'$set': { \"RatingValue\" : {'$toInt': '$RatingValue'}\n",
    "                                          }\n",
    "                                 } ])"
   ]
  },
  {
   "cell_type": "code",
   "execution_count": 30,
   "id": "37125d10",
   "metadata": {},
   "outputs": [
    {
     "name": "stdout",
     "output_type": "stream",
     "text": [
      "Converted ratings values: [None, 0, 1, 2, 3, 4, 5]\n"
     ]
    }
   ],
   "source": [
    "# check the results\n",
    "print(f\"Converted ratings values: {establishments.distinct('RatingValue')}\")  "
   ]
  },
  {
   "cell_type": "markdown",
   "id": "cb9352bd",
   "metadata": {},
   "source": [
    "More robust methods of conversion would iterate through the list of documents\n",
    "in the establishment collection and check each RatingValue before it was converted.\n",
    "Exceptions could be caught in a try-catch block, and that row recorded and skipped,\n",
    "but the conversion could go on through the list of documents.   \n",
    "\n",
    "In addition, here, because the value is an integer, after checking if the returned value is not null and is a string,\n",
    "the isDigit() method could be used to examine each character of the RatingValue character array in another loop,\n",
    "and only if all characters were numeric would the integer conversion  be done.   This also could be enclosed in a try-catch block so that any invalid data could be recorded but the overall conversion continue.  \n",
    "\n",
    "Another method would be to only do the conversion if the RatingValue as a whole was in a valid values list, from '0' to '5', without searching each character in the string, as a valid value is such a limited set, and to print out any invalid numbers that were out of range.\n",
    "\n",
    "For instance: \n",
    "\n",
    "docs = establishments.find()\n",
    "\n",
    "for doc in docs:\n",
    "    \n",
    "    is_int = True\n",
    "    \n",
    "    if isinstance(doc['RatingValue'], str):\n",
    "    \n",
    "        for char in doc['RatingValue']:\n",
    "            if not char.isdigit():\n",
    "               is_int = False\n",
    "               rint(f\"{char} is not a digit.\")\n",
    "       \n",
    "        if is_int = True:           \n",
    "            doc['RatingValue'] = int(doc['RatingValue'])\n",
    "            establishments.replace_one({'_id': doc['_id']}, doc)\n",
    "-                            "
   ]
  },
  {
   "cell_type": "code",
   "execution_count": 31,
   "id": "0deacaf9",
   "metadata": {},
   "outputs": [
    {
     "name": "stdout",
     "output_type": "stream",
     "text": [
      "conversion type checking complete.\n"
     ]
    }
   ],
   "source": [
    "# Check that the coordinates and rating value are now numbers.\n",
    "\n",
    "# This also was already checked in other ways, in cells above.\n",
    "# Disregarding all \"None\"/Null cells as that appears to be \n",
    "# acceptable for this application and these fields.\n",
    "\n",
    "# Get all the documents\n",
    "updated_docs = establishments.find()\n",
    "\n",
    "for doc in updated_docs:\n",
    "        \n",
    "        if doc['geocode']['latitude'] is not None:\n",
    "\n",
    "            if not isinstance(doc['geocode']['latitude'], float):\n",
    "                print(f\"The latitude {doc['geocode']['latitude']} is not a float\")\n",
    "\n",
    "        if doc['geocode']['longitude'] is not None:\n",
    "\n",
    "            if not isinstance(doc['geocode']['longitude'], float):\n",
    "                print(f\"The longitude {doc['geocode']['longitude']} is not a float\")\n",
    "\n",
    "        if doc['RatingValue'] is not None:\n",
    "\n",
    "            if not isinstance(doc['RatingValue'], int):\n",
    "                print(f\"The Rating Value {doc['RatingValue']} is not an integer\")\n",
    "                \n",
    "print(\"conversion type checking complete.\")"
   ]
  }
 ],
 "metadata": {
  "kernelspec": {
   "display_name": "Python 3 (ipykernel)",
   "language": "python",
   "name": "python3"
  },
  "language_info": {
   "codemirror_mode": {
    "name": "ipython",
    "version": 3
   },
   "file_extension": ".py",
   "mimetype": "text/x-python",
   "name": "python",
   "nbconvert_exporter": "python",
   "pygments_lexer": "ipython3",
   "version": "3.9.16"
  }
 },
 "nbformat": 4,
 "nbformat_minor": 5
}
